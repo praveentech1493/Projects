{
  "nbformat": 4,
  "nbformat_minor": 0,
  "metadata": {
    "kernelspec": {
      "display_name": "Python 3",
      "language": "python",
      "name": "python3"
    },
    "language_info": {
      "codemirror_mode": {
        "name": "ipython",
        "version": 3
      },
      "file_extension": ".py",
      "mimetype": "text/x-python",
      "name": "python",
      "nbconvert_exporter": "python",
      "pygments_lexer": "ipython3",
      "version": "3.6.8"
    },
    "colab": {
      "name": "Text_Classification_Assignment.ipynb",
      "provenance": [],
      "collapsed_sections": []
    }
  },
  "cells": [
    {
      "cell_type": "markdown",
      "metadata": {
        "id": "mDMgSstPYv0P"
      },
      "source": [
        "# Text Classification:\n",
        "\n",
        "## 1.1- About Dataset\n",
        "<pre>\n",
        "1. we have total of 20 types of documents(Text files) and total 18828 documents(text files).\n",
        "2. You can download data from this <a href='https://drive.google.com/open?id=1rxD15nyeIPIAZ-J2VYPrDRZI66-TBWvM'>link</a>, in that you will get documents.rar folder. <br>If you unzip that, you will get total of 18828 documnets. document name is defined as'ClassLabel_DocumentNumberInThatLabel'. \n",
        "so from document name, you can extract the label for that document.\n",
        "4. Now our problem is to classify all the documents into any one of the class.\n",
        "5. Below we provided count plot of all the labels in our data. \n",
        "</pre>"
      ]
    },
    {
      "cell_type": "markdown",
      "metadata": {
        "id": "VlqYFVI3Yv0k"
      },
      "source": [
        "##1.2 - sample document\n",
        "<pre>\n",
        "<font color='blue'>\n",
        "Subject: A word of advice\n",
        "From: jcopelan@nyx.cs.du.edu (The One and Only)\n",
        "\n",
        "In article < 65882@mimsy.umd.edu > mangoe@cs.umd.edu (Charley Wingate) writes:\n",
        ">\n",
        ">I've said 100 times that there is no \"alternative\" that should think you\n",
        ">might have caught on by now.  And there is no \"alternative\", but the point\n",
        ">is, \"rationality\" isn't an alternative either.  The problems of metaphysical\n",
        ">and religious knowledge are unsolvable-- or I should say, humans cannot\n",
        ">solve them.\n",
        "\n",
        "How does that saying go: Those who say it can't be done shouldn't interrupt\n",
        "those who are doing it.\n",
        "\n",
        "Jim\n",
        "--\n",
        "Have you washed your brain today?\n",
        "</font>\n",
        "</pre>"
      ]
    },
    {
      "cell_type": "markdown",
      "metadata": {
        "id": "KAR5HoR1Yv0m"
      },
      "source": [
        "##1.3 - Preprocessing:\n",
        "<pre>\n",
        "useful links: <a href='http://www.pyregex.com/'>http://www.pyregex.com/</a>\n",
        "\n",
        "<font color='blue'><b>1.</b></font> Find all emails in the document and then get the text after the \"@\". and then split those texts by '.' \n",
        "after that remove the words whose length is less than or equal to 2 and also remove'com' word and then combine those words by space. \n",
        "In one doc, if we have 2 or more mails, get all.\n",
        "<b>Eg:[test@dm1.d.com, test2@dm2.dm3.com]-->[dm1.d.com, dm3.dm4.com]-->[dm1,d,com,dm2,dm3,com]-->[dm1,dm2,dm3]-->\"dm1 dm2 dm3\" </b> \n",
        "append all those into one list/array. ( This will give length of 18828 sentences i.e one list for each of the document). \n",
        "Some sample output was shown below. \n",
        "\n",
        "> In the above sample document there are emails [jcopelan@nyx.cs.du.edu, 65882@mimsy.umd.edu, mangoe@cs.umd.edu]\n",
        "\n",
        "preprocessing:\n",
        "[jcopelan@nyx.cs.du.edu, 65882@mimsy.umd.edu, mangoe@cs.umd.edu] ==> [nyx cs du edu mimsy umd edu cs umd edu] ==> \n",
        "[nyx edu mimsy umd edu umd edu]\n",
        "\n",
        "<font color='blue'><b>2.</b></font> Replace all the emails by space in the original text. \n",
        "</pre>\n",
        "\n",
        "<pre>\n",
        "<font color='blue'><b>3.</b></font> Get subject of the text i.e. get the total lines where \"Subject:\" occur and remove \n",
        "the word which are before the \":\" remove the newlines, tabs, punctuations, any special chars.\n",
        "<b>Eg: if we have sentance like \"Subject: Re: Gospel Dating @ \\r\\r\\n\" --> You have to get \"Gospel Dating\"</b> \n",
        "Save all this data into another list/array. \n",
        "\n",
        "<font color='blue'><b>4.</b></font> After you store it in the list, Replace those sentances in original text by space.\n",
        "\n",
        "<font color='blue'><b>5.</b></font> Delete all the sentances where sentence starts with <b>\"Write to:\"</b> or <b>\"From:\"</b>.\n",
        "> In the above sample document check the 2nd line, we should remove that\n",
        "\n",
        "<font color='blue'><b>6.</b></font> Delete all the tags like \"< anyword >\"\n",
        "> In the above sample document check the 4nd line, we should remove that \"< 65882@mimsy.umd.edu >\"\n",
        "\n",
        "\n",
        "<font color='blue'><b>7.</b></font> Delete all the data which are present in the brackets. \n",
        "In many text data, we observed that, they maintained the explanation of sentence \n",
        "or translation of sentence to another language in brackets so remove all those.\n",
        "<b>Eg: \"AAIC-The course that gets you HIRED(AAIC - Der Kurs, der Sie anstellt)\" --> \"AAIC-The course that gets you HIRED\"</b>\n",
        "\n",
        "> In the above sample document check the 4nd line, we should remove that \"(Charley Wingate)\"\n",
        "\n",
        "\n",
        "<font color='blue'><b>8.</b></font> Remove all the newlines('\\n'), tabs('\\t'), \"-\", \"\\\".\n",
        "\n",
        "<font color='blue'><b>9.</b></font> Remove all the words which ends with <b>\":\"</b>.\n",
        "<b>Eg: \"Anyword:\"</b>\n",
        "> In the above sample document check the 4nd line, we should remove that \"writes:\"\n",
        "\n",
        "\n",
        "<font color='blue'><b>10.</b></font> Decontractions, replace words like below to full words. \n",
        "please check the donors choose preprocessing for this \n",
        "<b>Eg: can't -> can not, 's -> is, i've -> i have, i'm -> i am, you're -> you are, i'll --> i will </b>\n",
        "\n",
        "<b> There is no order to do point 6 to 10. but you have to get final output correctly</b>\n",
        "\n",
        "<font color='blue'><b>11.</b></font> Do chunking on the text you have after above preprocessing. \n",
        "Text chunking, also referred to as shallow parsing, is a task that \n",
        "follows Part-Of-Speech Tagging and that adds more structure to the sentence.\n",
        "So it combines the some phrases, named entities into single word.\n",
        "So after that combine all those phrases/named entities by separating <b>\"_\"</b>. \n",
        "And remove the phrases/named entities if that is a \"Person\". \n",
        "You can use <b>nltk.ne_chunk</b> to get these. \n",
        "Below we have given one example. please go through it. \n",
        "\n",
        "useful links: \n",
        "<a href='https://www.nltk.org/book/ch07.html'>https://www.nltk.org/book/ch07.html</a>\n",
        "<a href='https://stackoverflow.com/a/31837224/4084039'>https://stackoverflow.com/a/31837224/4084039</a>\n",
        "<a href='http://www.nltk.org/howto/tree.html'>http://www.nltk.org/howto/tree.html</a>\n",
        "<a href='https://stackoverflow.com/a/44294377/4084039'>https://stackoverflow.com/a/44294377/4084039</a>\n",
        "</pre>"
      ]
    },
    {
      "cell_type": "markdown",
      "metadata": {
        "id": "VpaC-KF3Yv1A"
      },
      "source": [
        "<pre>\n",
        "<font color='blue'><b>12.</b></font> Replace all the digits with space i.e delete all the digits. \n",
        "> In the above sample document, the 6th line have digit 100, so we have to remove that.\n",
        "\n",
        "<font color='blue'><b>13.</b></font> After doing above points, we observed there might be few word's like\n",
        " <b> \"_word_\" (i.e starting and ending with the _), \"_word\" (i.e starting with the _),\n",
        "  \"word_\" (i.e ending with the _)</b> remove the <b>_</b> from these type of words. \n",
        "\n",
        "<font color='blue'><b>14.</b></font>  We also observed some words like <b> \"OneLetter_word\"- eg: d_berlin, \n",
        "\"TwoLetters_word\" - eg: dr_berlin </b>, in these words we remove the \"OneLetter_\" (d_berlin ==> berlin) and \n",
        "\"TwoLetters_\" (de_berlin ==> berlin). i.e remove the words \n",
        "which are length less than or equal to 2 after spliiting those words by \"_\". \n",
        "\n",
        "<font color='blue'><b>15.</b></font> Convert all the words into lower case and lowe case \n",
        "and remove the words which are greater than or equal to 15 or less than or equal to 2.\n",
        "\n",
        "<font color='blue'><b>16.</b></font> replace all the words except \"A-Za-z_\" with space. \n",
        "\n",
        "<font color='blue'><b>17.</b></font> Now You got Preprocessed Text, email, subject. create a dataframe with those. \n",
        "Below are the columns of the df. \n",
        "</pre>"
      ]
    },
    {
      "cell_type": "markdown",
      "source": [
        "##1.3 - Models:"
      ],
      "metadata": {
        "id": "YfrdtFvl8EFS"
      }
    },
    {
      "cell_type": "markdown",
      "metadata": {
        "id": "n3ucJLtWYv1V"
      },
      "source": [
        "### Training The models to Classify: \n",
        "\n",
        "<pre>\n",
        "1. Combine \"preprocessed_text\", \"preprocessed_subject\", \"preprocessed_emails\" into one column. use that column to model. \n",
        "\n",
        "2. Now Split the data into Train and test. use 25% for test also do a stratify split. \n",
        "\n",
        "3. Analyze your text data and pad the sequnce if required. \n",
        "Sequnce length is not restricted, you can use anything of your choice. \n",
        "you need to give the reasoning\n",
        "\n",
        "4. Do Tokenizer i.e convert text into numbers. please be careful while doing it. \n",
        "if you are using tf.keras \"Tokenizer\" API, it removes the <b>\"_\"</b>, but we need that.\n",
        "\n",
        "5. code the model's ( Model-1, Model-2 ) as discussed below \n",
        "and try to optimize that models.  \n",
        "\n",
        "6. For every model use predefined Glove vectors. \n",
        "<b>Don't train any word vectors while Training the model.</b>\n",
        "\n",
        "7. Use \"categorical_crossentropy\" as Loss. \n",
        "\n",
        "8. Use <b>Accuracy and Micro Avgeraged F1 score</b> as your as Key metrics to evaluate your model. \n",
        "\n",
        "9.  Use Tensorboard to plot the loss and Metrics based on the epoches.\n",
        "\n",
        "10. Please save your best model weights in to <b>'best_model_L.h5' ( L = 1 or 2 )</b>. \n",
        "\n",
        "11. You are free to choose any Activation function, learning rate, optimizer.\n",
        "But have to use the same architecture which we are giving below.\n",
        "\n",
        "12. You can add some layer to our architecture but you <b>deletion</b> of layer is not acceptable.\n",
        "\n",
        "13. Try to use <b>Early Stopping</b> technique or any of the callback techniques that you did in the previous assignments.\n",
        "\n",
        "\n",
        "\n",
        "</pre>"
      ]
    },
    {
      "cell_type": "markdown",
      "metadata": {
        "id": "c0mwdtcvYv1X"
      },
      "source": [
        "### Model-1: Using 1D convolutions with word embeddings"
      ]
    },
    {
      "cell_type": "markdown",
      "metadata": {
        "id": "gXPPsovJ3ePk"
      },
      "source": [
        "<pre>\n",
        "<b>Encoding of the Text </b> --> For a given text data create a Matrix with Embedding layer as shown Below. \n",
        "In the example we have considered d = 5, but in this assignment we will get d = dimension of Word vectors we are using.\n",
        " i.e if we have maximum of 350 words in a sentence and embedding of 300 dim word vector, \n",
        " we result in 350*300 dimensional matrix for each sentance as output after embedding layer\n",
        "<img src='https://i.imgur.com/kiVQuk1.png'>\n",
        "Ref: https://i.imgur.com/kiVQuk1.png\n",
        "\n",
        "<b>Reference:</b>\n",
        "<a href='https://stackoverflow.com/a/43399308/4084039'>https://stackoverflow.com/a/43399308/4084039</a>\n",
        "<a href='https://missinglink.ai/guides/keras/keras-conv1d-working-1d-convolutional-neural-networks-keras/'>https://missinglink.ai/guides/keras/keras-conv1d-working-1d-convolutional-neural-networks-keras/</a>\n",
        "\n",
        "<b><a href='https://stats.stackexchange.com/questions/270546/how-does-keras-embedding-layer-work'>How EMBEDDING LAYER WORKS </a></b>\n",
        "\n",
        "</pre>\n",
        "\n",
        "### Go through this blog, if you have any doubt on using predefined Embedding values in Embedding layer - https://machinelearningmastery.com/use-word-embedding-layers-deep-learning-keras/"
      ]
    },
    {
      "cell_type": "markdown",
      "metadata": {
        "id": "wGVQKge3Yv1e"
      },
      "source": [
        "<img src='https://i.imgur.com/fv1GvFJ.png'>\n",
        "ref: 'https://i.imgur.com/fv1GvFJ.png'"
      ]
    },
    {
      "cell_type": "markdown",
      "metadata": {
        "id": "GC6SBG5AYv1f"
      },
      "source": [
        "<pre>\n",
        "1. all are Conv1D layers with any number of filter and filter sizes, there is no restriction on this.\n",
        "\n",
        "2. use concatenate layer is to concatenate all the filters/channels. \n",
        "\n",
        "3. You can use any pool size and stride for maxpooling layer.\n",
        "\n",
        "4. Don't use more than 16 filters in one Conv layer becuase it will increase the no of params. \n",
        "( Only recommendation if you have less computing power )\n",
        "\n",
        "5. You can use any number of layers after the Flatten Layer.\n",
        "</pre>"
      ]
    },
    {
      "cell_type": "markdown",
      "metadata": {
        "id": "9cg4L1V4Yv1d"
      },
      "source": [
        "### Model-2 : Using 1D convolutions with character embedding"
      ]
    },
    {
      "cell_type": "markdown",
      "metadata": {
        "id": "2Djg4YVA3oQx"
      },
      "source": [
        "<pre>\n",
        "<pre><img src=\"https://i.ytimg.com/vi/CNY8VjJt-iQ/maxresdefault.jpg\" width=\"70%\">\n",
        "Here are the some papers based on Char-CNN\n",
        " 1. Xiang Zhang, Junbo Zhao, Yann LeCun. <a href=\"http://arxiv.org/abs/1509.01626\">Character-level Convolutional Networks for Text Classification</a>.NIPS 2015\n",
        " 2. Yoon Kim, Yacine Jernite, David Sontag, Alexander M. Rush. <a href=\"https://arxiv.org/abs/1508.06615\">Character-Aware Neural Language Models</a>. AAAI 2016\n",
        " 3. Shaojie Bai, J. Zico Kolter, Vladlen Koltun. <a href=\"https://arxiv.org/pdf/1803.01271.pdf\">An Empirical Evaluation of Generic Convolutional and Recurrent Networks for Sequence Modeling</a>\n",
        " 4. Use the pratrained char embeddings <a href='https://github.com/minimaxir/char-embeddings/blob/master/glove.840B.300d-char.txt'>https://github.com/minimaxir/char-embeddings/blob/master/glove.840B.300d-char.txt</a>\n",
        "</pre>"
      ]
    },
    {
      "cell_type": "markdown",
      "metadata": {
        "id": "VXvKSEIeSvN5"
      },
      "source": [
        "<img src='https://i.imgur.com/EuuoJtr.png'>"
      ]
    },
    {
      "cell_type": "markdown",
      "source": [
        "##1.4 - File Handling of RAR files:"
      ],
      "metadata": {
        "id": "MjdKzl6N8ZIG"
      }
    },
    {
      "cell_type": "code",
      "metadata": {
        "id": "jpsw4GNIhk7j",
        "colab": {
          "base_uri": "https://localhost:8080/"
        },
        "outputId": "093192aa-59ac-475f-fd54-5e72428392a6"
      },
      "source": [
        "pip install rarfile"
      ],
      "execution_count": null,
      "outputs": [
        {
          "output_type": "stream",
          "text": [
            "Collecting rarfile\n",
            "  Downloading https://files.pythonhosted.org/packages/95/f4/c92fab227c7457e3b76a4096ccb655ded9deac869849cb03afbe55dfdc1e/rarfile-4.0-py3-none-any.whl\n",
            "Installing collected packages: rarfile\n",
            "Successfully installed rarfile-4.0\n"
          ],
          "name": "stdout"
        }
      ]
    },
    {
      "cell_type": "code",
      "metadata": {
        "id": "RIJRhxsdL9bM",
        "colab": {
          "base_uri": "https://localhost:8080/"
        },
        "outputId": "f37cd6d4-6d41-4bba-f5d0-93395bf3ac13"
      },
      "source": [
        "import regex as re\n",
        "import numpy as np\n",
        "import nltk \n",
        "nltk.download('punkt')\n",
        "nltk.download('averaged_perceptron_tagger')\n",
        "nltk.download('maxent_ne_chunker')\n",
        "nltk.download('words')\n",
        "import rarfile\n",
        "import pandas as pd\n",
        "import tensorflow as tf\n",
        "import os\n"
      ],
      "execution_count": null,
      "outputs": [
        {
          "output_type": "stream",
          "text": [
            "[nltk_data] Downloading package punkt to /root/nltk_data...\n",
            "[nltk_data]   Unzipping tokenizers/punkt.zip.\n",
            "[nltk_data] Downloading package averaged_perceptron_tagger to\n",
            "[nltk_data]     /root/nltk_data...\n",
            "[nltk_data]   Unzipping taggers/averaged_perceptron_tagger.zip.\n",
            "[nltk_data] Downloading package maxent_ne_chunker to\n",
            "[nltk_data]     /root/nltk_data...\n",
            "[nltk_data]   Unzipping chunkers/maxent_ne_chunker.zip.\n",
            "[nltk_data] Downloading package words to /root/nltk_data...\n",
            "[nltk_data]   Unzipping corpora/words.zip.\n"
          ],
          "name": "stdout"
        }
      ]
    },
    {
      "cell_type": "code",
      "metadata": {
        "id": "XA_grh8FhDER",
        "colab": {
          "base_uri": "https://localhost:8080/"
        },
        "outputId": "8897da71-9c7e-44fd-ca77-015081b0e8d1"
      },
      "source": [
        "from google.colab import drive\n",
        "drive.mount('/content/drive')"
      ],
      "execution_count": null,
      "outputs": [
        {
          "output_type": "stream",
          "text": [
            "Mounted at /content/drive\n"
          ],
          "name": "stdout"
        }
      ]
    },
    {
      "cell_type": "markdown",
      "source": [
        "##1.4 - Implementation of Preprocessing:"
      ],
      "metadata": {
        "id": "yA3Mzc1dCQx6"
      }
    },
    {
      "cell_type": "markdown",
      "source": [
        "##1.4.1 - Decontracting:"
      ],
      "metadata": {
        "id": "tRu7j8zPCrvP"
      }
    },
    {
      "cell_type": "code",
      "metadata": {
        "id": "yggCjzHXUmA_"
      },
      "source": [
        "def decontracted(phrase):\n",
        "    # specific\n",
        "    phrase = re.sub(r\"won't\", \"will not\", phrase)\n",
        "    phrase = re.sub(r\"can\\'t\", \"can not\", phrase)\n",
        "\n",
        "    # general\n",
        "    phrase = re.sub(r\"n\\'t\", \" not\", phrase)\n",
        "    phrase = re.sub(r\"\\'re\", \" are\", phrase)\n",
        "    phrase = re.sub(r\"\\'s\", \" is\", phrase)\n",
        "    phrase = re.sub(r\"\\'d\", \" would\", phrase)\n",
        "    phrase = re.sub(r\"\\'ll\", \" will\", phrase)\n",
        "    phrase = re.sub(r\"\\'t\", \" not\", phrase)\n",
        "    phrase = re.sub(r\"\\'ve\", \" have\", phrase)\n",
        "    phrase = re.sub(r\"\\'m\", \" am\", phrase)\n",
        "    return phrase"
      ],
      "execution_count": null,
      "outputs": []
    },
    {
      "cell_type": "markdown",
      "source": [
        "##1.4.2 - Chunking:"
      ],
      "metadata": {
        "id": "1cTg1aY8C09y"
      }
    },
    {
      "cell_type": "code",
      "metadata": {
        "id": "--q3S4kFFL23",
        "colab": {
          "base_uri": "https://localhost:8080/"
        },
        "outputId": "d3815181-f3f4-47f1-f61b-34e5e8a2f4af"
      },
      "source": [
        "#chunking\n",
        "import regex as re\n",
        "import nltk \n",
        "nltk.download('punkt')\n",
        "nltk.download('averaged_perceptron_tagger')\n",
        "nltk.download('maxent_ne_chunker')\n",
        "nltk.download('words')\n",
        "\n",
        "\n",
        "def chunking(processing_text):\n",
        "      chunks=(list(nltk.ne_chunk(nltk.pos_tag(nltk.word_tokenize(processing_text)))))\n",
        "      for i in chunks:\n",
        "          if type(i)==nltk.tree.Tree:\n",
        "              if i.label() == \"GPE\":\n",
        "                  j = i.leaves()\n",
        "                  if len(j)>1:   #if new_delhi or bigger name\n",
        "                      gpe = \"_\".join([term for term,pos in j])\n",
        "                      processing_text = re.sub(rf'{j[1][0]}',gpe,processing_text, flags=re.MULTILINE)              #replacing delhi with new_delhi\n",
        "                      processing_text = re.sub(rf'\\b{j[0][0]}\\b',\"\",processing_text, flags=re.MULTILINE)       #deleting new, \\b is important\n",
        "              if i.label()==\"PERSON\":\n",
        "                for term,pog in i.leaves():\n",
        "                  processing_text = re.sub(re.escape(term),\"\",processing_text, flags=re.MULTILINE)\n",
        "      return processing_text               \n"
      ],
      "execution_count": 11,
      "outputs": [
        {
          "output_type": "stream",
          "name": "stderr",
          "text": [
            "[nltk_data] Downloading package punkt to /root/nltk_data...\n",
            "[nltk_data]   Package punkt is already up-to-date!\n",
            "[nltk_data] Downloading package averaged_perceptron_tagger to\n",
            "[nltk_data]     /root/nltk_data...\n",
            "[nltk_data]   Package averaged_perceptron_tagger is already up-to-\n",
            "[nltk_data]       date!\n",
            "[nltk_data] Downloading package maxent_ne_chunker to\n",
            "[nltk_data]     /root/nltk_data...\n",
            "[nltk_data]   Package maxent_ne_chunker is already up-to-date!\n",
            "[nltk_data] Downloading package words to /root/nltk_data...\n",
            "[nltk_data]   Package words is already up-to-date!\n"
          ]
        }
      ]
    },
    {
      "cell_type": "code",
      "source": [
        "#i am living in the New York\n",
        "print(\"i am living in the New York -->\",chunking('i am living in the New York'))\n",
        "print(\" \")\n",
        "print(\"-\"*50)\n",
        "print(\" \")\n",
        "#My name is Praveen Kumar\n",
        "print(\"My name is Praveen Kumar -->\", chunking('My name is Praveen Kumar'))"
      ],
      "metadata": {
        "colab": {
          "base_uri": "https://localhost:8080/"
        },
        "id": "Byo3fTs-_GD0",
        "outputId": "a1c80482-91f6-4609-e9c0-fa39cad0e0f1"
      },
      "execution_count": 17,
      "outputs": [
        {
          "output_type": "stream",
          "name": "stdout",
          "text": [
            "i am living in the New York --> i am living in the  New_York\n",
            " \n",
            "--------------------------------------------------\n",
            " \n",
            "My name is Praveen Kumar --> My name is  \n"
          ]
        }
      ]
    },
    {
      "cell_type": "markdown",
      "source": [
        "<pre>We did chunking for above two lines and then We got one list where each word is mapped to a \n",
        "POS(parts of speech) and also if you see \"New York\" and \"Srikanth Varma\", \n",
        "they got combined and represented as a tree and \"New York\" was referred as \"GPE\" and \"Srikanth Varma\" was referred as \"PERSON\". \n",
        "so now you have to Combine the \"New York\" with <b>\"_\"</b> i.e \"New_York\"\n",
        "and remove the \"Srikanth Varma\" from the above sentence because it is a person.</pre>"
      ],
      "metadata": {
        "id": "csl-hI1gBrZB"
      }
    },
    {
      "cell_type": "markdown",
      "source": [
        "##1.4.3 - Preprocessing function for all the preprocessing:"
      ],
      "metadata": {
        "id": "eoUtlvYKA1j8"
      }
    },
    {
      "cell_type": "code",
      "metadata": {
        "id": "60j3C5F_ZPi3"
      },
      "source": [
        "def preprocessing(text):\n",
        "     #(1)for extracting email after \"@\"\n",
        "      txt=[]\n",
        "      emails=re.findall(\"@([a-zA-Z0-9-]+\\.[a-zA-Z0-9-.]+)\",text)\n",
        "      for i in emails:\n",
        "        word_list = re.split(r\"\\.\",i)\n",
        "        for i in word_list:\n",
        "          if len(i)>2 and i != \"com\":\n",
        "            txt.append(i)\n",
        "      email_txt= ' '.join(txt)\n",
        "\n",
        "      #(2)for extarcting subject\n",
        "      \n",
        "      sub_space=re.findall(\"^Subject:(.*$)\",text,re.MULTILINE)  \n",
        "      sub_space=re.sub(\"\\W\",\" \",sub_space[0])\n",
        "      sub_space=re.sub(\"re\",\"\",sub_space,flags=re.IGNORECASE)\n",
        "      sub_space= re.sub(r\" {2,}\", \" \", sub_space, flags=re.MULTILINE)\n",
        "      \n",
        "\n",
        "\n",
        "      #(3)replacing mail id with space\n",
        "      processing_text=re.sub(\"([a-zA-Z0-9_.+-]+@[a-zA-Z0-9-]+\\.[a-zA-Z0-9-.]+)\",\"\",text)\n",
        "\n",
        "      #(4)replacing subject sentence with space  \n",
        "      processing_text=re.sub(\"^Subject:.*$\",\"\",processing_text,flags=re.MULTILINE)\n",
        "      \n",
        "      #(5)to remove the sentence starts with \"From: or Write to:\"\"\n",
        "      processing_text= re.sub(r\"Write to:.*$\",\"\",processing_text, flags=re.MULTILINE|re.IGNORECASE)           \n",
        "      processing_text= re.sub(r\"From:.*$\",\"\",processing_text, flags=re.MULTILINE|re.IGNORECASE)               \n",
        "      processing_text= re.sub(r\"or:\",\"\",processing_text,flags=re.MULTILINE|re.IGNORECASE)\n",
        "\n",
        "      #(6)to remove words in b/w <>\n",
        "      processing_text=re.sub('(<[^<>]+>)','',processing_text)\n",
        "\n",
        "      #(7)reomove words in bracket\n",
        "      processing_text=re.sub(\"\\(.*\\)\",\" \",processing_text)\n",
        "\n",
        "      #(8)to remove symbols\n",
        "      processing_text= re.sub(r\"[\\n\\t\\-\\\\\\/]\",\" \",processing_text, flags=re.MULTILINE)\n",
        "\n",
        "      #(9)to remove words end with \":\"\n",
        "      processing_text=re.sub(\"([a-zA-Z0-9-]+:)\",\"\",processing_text)\n",
        "\n",
        "      #(10)Decontraction\n",
        "      processing_text=decontracted(processing_text)\n",
        "\n",
        "      #chunking\n",
        "      processing_text=chunking(processing_text)\n",
        "\n",
        "\n",
        "      #(12)to remove numbers\n",
        "      processing_text=re.sub(\"\\d+\",\"\",processing_text)\n",
        "\n",
        "      #(13)to remove the \"_\" on words\n",
        "      processing_text= re.sub(r\"\\b_([a-zA-z]+)_\\b\",r\"\\1\",processing_text) \n",
        "      processing_text= re.sub(r\"\\b_([a-zA-z]+)\\b\",r\"\\1\",processing_text) \n",
        "      processing_text= re.sub(r\"\\b([a-zA-z]+)_\\b\",r\"\\1\",processing_text) \n",
        "\n",
        "      #(14)to remove words dr in dr_berlin\n",
        "      processing_text= re.sub(r\"\\b[a-zA-Z]{1}_([a-zA-Z]+)\",r\"\\1\",processing_text) \n",
        "      processing_text= re.sub(r\"\\b[a-zA-Z]{2}_([a-zA-Z]+)\",r\"\\1\",processing_text)\n",
        "\n",
        "      #(15)convert to lowercase\n",
        "      processing_text= processing_text.lower()\n",
        "\n",
        "      #(16)words will be only b/w of size \"2\" to \"15\"\n",
        "      processing_text= re.sub(r'\\b\\w{1,2}\\b',\" \",processing_text) #remove words <2\n",
        "      processing_text= re.sub(r\"\\b\\w{15,}\\b\",\" \",processing_text) #remove words >15\n",
        "\n",
        "      #(17)having only data of alphabets and \"_\"\n",
        "      processing_text= re.sub(r\"[^a-zA-Z_]\",\" \",processing_text)\n",
        "\n",
        "      #(18)removing all unnecessary space\n",
        "      processed_text= re.sub(r\" {2,}\", \" \",processing_text, flags=re.MULTILINE)\n",
        "      \n",
        "      return email_txt,sub_space,processed_text\n",
        "\n",
        "     \n",
        "      "
      ],
      "execution_count": null,
      "outputs": []
    },
    {
      "cell_type": "code",
      "metadata": {
        "id": "dY7igd3-N6OD"
      },
      "source": [
        ""
      ],
      "execution_count": null,
      "outputs": []
    },
    {
      "cell_type": "markdown",
      "source": [
        "##1.4.4 - Implementing Preprocessing on our Dataset:"
      ],
      "metadata": {
        "id": "QYNJJJ-cDOID"
      }
    },
    {
      "cell_type": "code",
      "metadata": {
        "id": "-DmEnfesP8iM"
      },
      "source": [
        "label,doc_num,text=[],[],[]\n",
        "processed_mail,processed_subject,processed_text=[],[],[]\n",
        "\n",
        "\n",
        "with rarfile.RarFile(\"/content/drive/MyDrive/Colab Notebooks/documents.rar\") as rf:\n",
        "  for name in rf.namelist():\n",
        "#for extracting the \"CLASS\" and \"Document Number\" from the text files\n",
        "    try:\n",
        "      filename=re.findall('documents/([a-zA-Z0-9-_.]+)\\.txt',name)[0]\n",
        "      i,j = filename.split('_')\n",
        "      j = int(j.split('.')[0])\n",
        "      label.append(i)\n",
        "      doc_num.append(j)\n",
        "    except:\n",
        "      pass #for directory path \"documentary/\" in the \"rf.namelist()\"  which has to be skipped since it is not a file but it also comes in the rf.namelist()\n",
        "    \n",
        "#for pre-processing the given text file\n",
        "    try:\n",
        "      with rf.open(name) as f:\n",
        "        my_file=f.read()\n",
        "        text.append(my_file)\n",
        "        corct=my_file.decode('ISO-8859-1') #for decoding the \"bytes\" type to \"string\" type.\n",
        "        pre_processed=preprocessing(corct)\n",
        "        processed_mail.append(pre_processed[0])\n",
        "        processed_subject.append(pre_processed[1])\n",
        "        processed_text.append(pre_processed[2])\n",
        "    except:\n",
        "      pass #for directory path \"documentary/\" in the \"rf.namelist()\"  which has to be skipped since it is not a file but it also comes in the rf.namelist()"
      ],
      "execution_count": null,
      "outputs": []
    },
    {
      "cell_type": "code",
      "metadata": {
        "colab": {
          "base_uri": "https://localhost:8080/"
        },
        "id": "aUOVSbC7gbvK",
        "outputId": "7b9f1ee1-6435-4ca7-ebb6-0866aa42b475"
      },
      "source": [
        "len(processed_mail)\n",
        "len(processed_subject)\n",
        "len(processed_text)"
      ],
      "execution_count": null,
      "outputs": [
        {
          "output_type": "execute_result",
          "data": {
            "text/plain": [
              "18828"
            ]
          },
          "metadata": {
            "tags": []
          },
          "execution_count": 8
        }
      ]
    },
    {
      "cell_type": "code",
      "metadata": {
        "id": "oygPWoU-v883"
      },
      "source": [
        "#checking\n",
        "with rf.open('documents/alt.atheism_49960.txt') as f:\n",
        "  chk_file=f.read()\n",
        "  chk_corct=chk_file.decode('ISO-8859-1')\n",
        "  checking=preprocessing(chk_corct)\n",
        "\n"
      ],
      "execution_count": null,
      "outputs": []
    },
    {
      "cell_type": "code",
      "metadata": {
        "colab": {
          "base_uri": "https://localhost:8080/",
          "height": 35
        },
        "id": "vQqRLWNav87m",
        "outputId": "18d554f6-04a1-4741-a762-93c20a12e326"
      },
      "source": [
        "checking[0] #'alt.atheism_49960.txt' processed email"
      ],
      "execution_count": null,
      "outputs": [
        {
          "output_type": "execute_result",
          "data": {
            "application/vnd.google.colaboratory.intrinsic+json": {
              "type": "string"
            },
            "text/plain": [
              "'mantis netcom mantis'"
            ]
          },
          "metadata": {
            "tags": []
          },
          "execution_count": 45
        }
      ]
    },
    {
      "cell_type": "code",
      "metadata": {
        "colab": {
          "base_uri": "https://localhost:8080/",
          "height": 35
        },
        "id": "94135-yXv80J",
        "outputId": "b98682b3-bb28-4ad8-8ac0-19e242e8a433"
      },
      "source": [
        "checking[1] #'alt.atheism_49960.txt' processed subject"
      ],
      "execution_count": null,
      "outputs": [
        {
          "output_type": "execute_result",
          "data": {
            "application/vnd.google.colaboratory.intrinsic+json": {
              "type": "string"
            },
            "text/plain": [
              "' Alt Atheism FAQ Atheist sources'"
            ]
          },
          "metadata": {
            "tags": []
          },
          "execution_count": 46
        }
      ]
    },
    {
      "cell_type": "code",
      "metadata": {
        "colab": {
          "base_uri": "https://localhost:8080/",
          "height": 136
        },
        "id": "yXsh6VgFyMym",
        "outputId": "8d184138-914c-4126-e5dd-e546bad17d63"
      },
      "source": [
        "checking[2] #'alt.atheism_49960.txt' processed text"
      ],
      "execution_count": null,
      "outputs": [
        {
          "output_type": "execute_result",
          "data": {
            "application/vnd.google.colaboratory.intrinsic+json": {
              "type": "string"
            },
            "text/plain": [
              "' archive atheism resources alt atheism archive resources last december atheist resources addresses atheist organizations usa freedom from religion foundation fish bumper stickers and assorted other atheist paraphernalia are available from the freedom from religion foundation the evolution designs evolution designs sell the fish fish symbol like the ones stick their cars but with feet and the word written inside the deluxe moulded plastic fish postpaid the people the san francisco bay area can get from try mailing for net people who directly the price per fish american atheist press aap publish various atheist books critiques the bible lists biblical contradictions and one such book the bible handbook and american atheist isbn edition bible contradictions absurdities atrocities immoralities contains the bible contradicts itself aap based the king version the bible austin prometheus books sell books including holy horrors alternate address prometheus african americans for humanism organization promoting black secular humanism and uncovering the history black freethought they publish quarterly newsletter aah examiner association national secular society street holloway british humanist association south place ethical society lamb wcr red lion square wcr fax the national secular society publish the freethinker monthly magazine founded bund der und berlin publish miz materialien und zur zeit politisches journal der und miz vertrieb berlin for atheist books ibdk ucherdienst der hannover fiction thomas disch the claus compromise short story the ultimate proof that exists all characters and events are fictitious any similarity living dead gods well walter miller canticle for leibowitz one gem this post atomic doomsday novel the monks who spent their lives copying blueprints from saint leibowitz filling the sheets paper with ink and leaving white lines and letters edgar pangborn davy post atomic doomsday novel set clerical states the church for example forbids that anyone produce describe use any substance containing atoms philip dick wrote many philosophical and thought provoking short stories and novels his stories are bizarre times but very approachable wrote mainly but wrote about people truth and religion rather than technology although often believed that had met some sort remained sceptical amongst his novels the following are some fallible alien deity summons group craftsmen and women remote planet raise giant cathedral from beneath the oceans when the deity begins demand faith from the earthers pot healer unable comply polished ironic and amusing novel maze death noteworthy for its description technology based religion valis the schizophrenic hero searches for the hidden mysteries gnostic ity after reality fired into his brain pink laser beam unknown but possibly divine origin accompanied his dogmatic and dismissively atheist friend and assorted other odd characters the divine invasion invades making young woman pregnant she returns from another star system unfortunately she terminally ill and must assisted dead man whose brain wired hour easy listening music margaret atwood the handmaid story based the premise that the congress mysteriously assassinated and quickly take charge the nation set right again the book the diary woman life she tries live under the new theocracy women right own property revoked and their bank accounts are closed sinful luxuries are outlawed and the radio only used for readings from the bible crimes are punished doctors who performed legal abortions the old world are hunted down and hanged writing style difficult get used first but the tale grows more and more chilling goes various authors the bible this somewhat dull and rambling work has often been criticized however probably worth reading only that you will know what all the fuss about exists many different versions make sure you get the one true version fiction peter rosa vicars christ although seems even catholic this very enlighting history papal immoralities adulteries fallacies etc german gottes erste dunkle seite des michael martin philosophical justification philadelphia detailed and scholarly justification atheism contains outstanding appendix defining terminology and usage this tendentious area argues both for negative atheism the non belief the existence god and also for positive atheism the belief the non existence god includes great refutations the most challenging arguments for god particular attention paid refuting contempory theists such and swinburne pages isbn the case against ity comprehensive critique ity which considers the best contemporary defences ity and demonstrates that they are unsupportable and incoherent pages isbn turner the johns hopkins baltimore usa subtitled the origins unbelief america examines the way which unbelief became mainstream alternative world view focusses the period and while considering france and britain the emphasis american and particularly new_england developments neither religious history secularization atheism rather the intellectual history the fate single idea the belief that exists pages isbn george seldes the great thoughts antine new_york usa dictionary quotations different kind concentrating statements and writings which explicitly implicitly present the person philosophy and world view includes obscure opinions from many people for some popular observations traces the way which various people expressed and twisted the idea over the centuries quite number the quotations are derived from cardiff what religion and views religion pages isbn richard swinburne the existence oxford this book the second volume trilogy that began with the coherence theism this work swinburne attempts construct series inductive arguments for the existence his arguments which are somewhat tendentious and rely upon the imputation late century western values and aesthetics which supposedly simple can conceived were decisively rejected the miracle theism the revised edition the existence swinburne includes appendix which makes somewhat incoherent attempt rebut mackie the miracle theism oxford this volume contains comprehensive review the principal arguments for and against the existence ranges from the classical philosophical positions descartes anselm through the moral arguments newman kant and the recent restatements the classical theses and swinburne also addresses those positions which push the concept beyond the realm the rational such those kierkegaard and well replacements for such axiarchism the book delight read less formalistic and better written than works and refreshingly direct when compared with the hand waving swinburne haught holy illustrated history religious murder and madness prometheus looks religious persecution from ancient times the present day and not only library congress catalog card number norm allen african american anthology see the listing for african americans for humanism above gordon stein anthology atheism and rationalism prometheus anthology covering wide range subjects including the devil and morality and the history freethought comprehensive bibliography edmund cohen the mind the bible believer prometheus study why people become and what effect has them net resources there small mail based archive server mantis which carries archives old alt atheism moderated articles and assorted other files for more information send mail saying help send atheism index and will mail back reply mathew '"
            ]
          },
          "metadata": {
            "tags": []
          },
          "execution_count": 47
        }
      ]
    },
    {
      "cell_type": "markdown",
      "source": [
        "##1.5 - Preprocessed Dataset:"
      ],
      "metadata": {
        "id": "VLP5Xt0dDq_b"
      }
    },
    {
      "cell_type": "code",
      "metadata": {
        "id": "moESMDcRuKVn"
      },
      "source": [
        "df=pd.DataFrame([text,label,processed_text,processed_subject,processed_mail],['Text', 'Class', 'preprocessed_text', 'preprocessed_subject','preprocessed_emails']).T"
      ],
      "execution_count": null,
      "outputs": []
    },
    {
      "cell_type": "code",
      "metadata": {
        "colab": {
          "base_uri": "https://localhost:8080/",
          "height": 229
        },
        "id": "iKh6UYnFuKUH",
        "outputId": "27d7ffe9-1c60-4570-8185-72138155de4f"
      },
      "source": [
        "df.head()"
      ],
      "execution_count": null,
      "outputs": [
        {
          "output_type": "execute_result",
          "data": {
            "text/html": [
              "<div>\n",
              "<style scoped>\n",
              "    .dataframe tbody tr th:only-of-type {\n",
              "        vertical-align: middle;\n",
              "    }\n",
              "\n",
              "    .dataframe tbody tr th {\n",
              "        vertical-align: top;\n",
              "    }\n",
              "\n",
              "    .dataframe thead th {\n",
              "        text-align: right;\n",
              "    }\n",
              "</style>\n",
              "<table border=\"1\" class=\"dataframe\">\n",
              "  <thead>\n",
              "    <tr style=\"text-align: right;\">\n",
              "      <th></th>\n",
              "      <th>Text</th>\n",
              "      <th>Class</th>\n",
              "      <th>preprocessed_text</th>\n",
              "      <th>preprocessed_subject</th>\n",
              "      <th>preprocessed_emails</th>\n",
              "    </tr>\n",
              "  </thead>\n",
              "  <tbody>\n",
              "    <tr>\n",
              "      <th>0</th>\n",
              "      <td>b'From: mathew &lt;mathew@mantis.co.uk&gt;\\nSubject:...</td>\n",
              "      <td>alt.atheism</td>\n",
              "      <td>archive atheism resources alt atheism archive...</td>\n",
              "      <td>Alt Atheism FAQ Atheist sources</td>\n",
              "      <td>mantis netcom mantis</td>\n",
              "    </tr>\n",
              "    <tr>\n",
              "      <th>1</th>\n",
              "      <td>b'From: mathew &lt;mathew@mantis.co.uk&gt;\\nSubject:...</td>\n",
              "      <td>alt.atheism</td>\n",
              "      <td>rchive atheism introduction atheism archive i...</td>\n",
              "      <td>Alt Atheism FAQ Introduction to Atheism</td>\n",
              "      <td>mantis mantis mantis</td>\n",
              "    </tr>\n",
              "    <tr>\n",
              "      <th>2</th>\n",
              "      <td>b'From: I3150101@dbstu1.rz.tu-bs.de (Benedikt ...</td>\n",
              "      <td>alt.atheism</td>\n",
              "      <td>article well has quite different not necessar...</td>\n",
              "      <td>Gospel Dating</td>\n",
              "      <td>dbstu1 tu-bs mimsy umd edu umd edu</td>\n",
              "    </tr>\n",
              "    <tr>\n",
              "      <th>3</th>\n",
              "      <td>b'From: mathew &lt;mathew@mantis.co.uk&gt;\\nSubject:...</td>\n",
              "      <td>alt.atheism</td>\n",
              "      <td>recently ras have been ordered and none have ...</td>\n",
              "      <td>university violating separation of church state</td>\n",
              "      <td>mantis kepler unh edu</td>\n",
              "    </tr>\n",
              "    <tr>\n",
              "      <th>4</th>\n",
              "      <td>b'From: strom@Watson.Ibm.Com (Rob Strom)\\nSubj...</td>\n",
              "      <td>alt.atheism</td>\n",
              "      <td>article however hate economic terrorism and p...</td>\n",
              "      <td>soc motss et al Princeton axes matching funds...</td>\n",
              "      <td>Watson Ibm Com harder ccr-p ida org harder ccr...</td>\n",
              "    </tr>\n",
              "  </tbody>\n",
              "</table>\n",
              "</div>"
            ],
            "text/plain": [
              "                                                Text  ...                                preprocessed_emails\n",
              "0  b'From: mathew <mathew@mantis.co.uk>\\nSubject:...  ...                               mantis netcom mantis\n",
              "1  b'From: mathew <mathew@mantis.co.uk>\\nSubject:...  ...                               mantis mantis mantis\n",
              "2  b'From: I3150101@dbstu1.rz.tu-bs.de (Benedikt ...  ...                 dbstu1 tu-bs mimsy umd edu umd edu\n",
              "3  b'From: mathew <mathew@mantis.co.uk>\\nSubject:...  ...                              mantis kepler unh edu\n",
              "4  b'From: strom@Watson.Ibm.Com (Rob Strom)\\nSubj...  ...  Watson Ibm Com harder ccr-p ida org harder ccr...\n",
              "\n",
              "[5 rows x 5 columns]"
            ]
          },
          "metadata": {
            "tags": []
          },
          "execution_count": 10
        }
      ]
    },
    {
      "cell_type": "code",
      "metadata": {
        "id": "Kxf1rPtCuKPG"
      },
      "source": [
        "#REFERENCE:https://stackoverflow.com/questions/33098383/merge-multiple-column-values-into-one-column-in-python-pandas\n",
        "\n",
        "df['Combined'] = df[df.columns[2:]].apply(\n",
        "    lambda x: ','.join(x.dropna().astype(str)),\n",
        "    axis=1)"
      ],
      "execution_count": null,
      "outputs": []
    },
    {
      "cell_type": "markdown",
      "source": [
        "##1.5.1 - Splitting Dataset for Implementing the models:"
      ],
      "metadata": {
        "id": "YmfizBLoEAwf"
      }
    },
    {
      "cell_type": "code",
      "metadata": {
        "id": "9mp4Dtvp30mt"
      },
      "source": [
        "X=df['Combined']\n",
        "Y=df['Class']\n",
        "labels=np.unique(Y)\n",
        "Y_label=[]\n",
        "for i in Y:\n",
        "  if i in labels:\n",
        "    y=np.where(labels == i)\n",
        "    Y_label.append(y[0][0])\n",
        "from tensorflow.keras.utils import to_categorical\n",
        "Y_label = to_categorical(np.asarray(Y_label))\n"
      ],
      "execution_count": null,
      "outputs": []
    },
    {
      "cell_type": "code",
      "metadata": {
        "colab": {
          "base_uri": "https://localhost:8080/"
        },
        "id": "Chwyb0i-cUkJ",
        "outputId": "7c4fdafa-c8f4-4173-a703-27ba1a462c68"
      },
      "source": [
        "len(Y_label)"
      ],
      "execution_count": null,
      "outputs": [
        {
          "output_type": "execute_result",
          "data": {
            "text/plain": [
              "18828"
            ]
          },
          "metadata": {
            "tags": []
          },
          "execution_count": 20
        }
      ]
    },
    {
      "cell_type": "markdown",
      "source": [
        "##1.5.2 - Shuffling the Data:"
      ],
      "metadata": {
        "id": "uj-FasNmEUjd"
      }
    },
    {
      "cell_type": "code",
      "metadata": {
        "id": "w4t2wMzNuKFw"
      },
      "source": [
        "# Shuffle the data\n",
        "seed = 1337\n",
        "rng = np.random.RandomState(seed)\n",
        "rng.shuffle(X)\n",
        "rng = np.random.RandomState(seed)\n",
        "rng.shuffle(Y_label)"
      ],
      "execution_count": null,
      "outputs": []
    },
    {
      "cell_type": "markdown",
      "source": [
        "##1.5.3 - Train and Test Data split:"
      ],
      "metadata": {
        "id": "itxsE8daEb07"
      }
    },
    {
      "cell_type": "code",
      "metadata": {
        "id": "_grONs6juKDc"
      },
      "source": [
        "# Extract a training & validation split\n",
        "validation_split = 0.25\n",
        "num_validation_samples = int(validation_split * len(X))\n",
        "X_train = X[:-num_validation_samples]\n",
        "X_test = X[-num_validation_samples:]\n",
        "Y_train = Y_label[:-num_validation_samples]\n",
        "Y_test = Y_label[-num_validation_samples:]"
      ],
      "execution_count": null,
      "outputs": []
    },
    {
      "cell_type": "code",
      "metadata": {
        "id": "lrkcogfCWXq1"
      },
      "source": [
        ""
      ],
      "execution_count": null,
      "outputs": []
    },
    {
      "cell_type": "code",
      "metadata": {
        "id": "yMNzlNg_WXtN"
      },
      "source": [
        ""
      ],
      "execution_count": null,
      "outputs": []
    },
    {
      "cell_type": "code",
      "metadata": {
        "id": "WgU0djdRWXzE"
      },
      "source": [
        ""
      ],
      "execution_count": null,
      "outputs": []
    },
    {
      "cell_type": "markdown",
      "source": [
        ""
      ],
      "metadata": {
        "id": "fl3GOvqwEmDc"
      }
    },
    {
      "cell_type": "markdown",
      "source": [
        "# 2-Implementation of the Models"
      ],
      "metadata": {
        "id": "pCAT7hrrEzVW"
      }
    },
    {
      "cell_type": "code",
      "metadata": {
        "id": "x7L_SVl5WX1I",
        "colab": {
          "base_uri": "https://localhost:8080/"
        },
        "outputId": "9717a89b-ed26-423f-b791-07c1cb5043cf"
      },
      "source": [
        "pip install -q --no-deps tensorflow-addons~=0.6"
      ],
      "execution_count": null,
      "outputs": [
        {
          "output_type": "stream",
          "text": [
            "\u001b[?25l\r\u001b[K     |▌                               | 10kB 25.2MB/s eta 0:00:01\r\u001b[K     |█                               | 20kB 19.3MB/s eta 0:00:01\r\u001b[K     |█▌                              | 30kB 13.1MB/s eta 0:00:01\r\u001b[K     |██                              | 40kB 14.3MB/s eta 0:00:01\r\u001b[K     |██▍                             | 51kB 8.0MB/s eta 0:00:01\r\u001b[K     |███                             | 61kB 9.3MB/s eta 0:00:01\r\u001b[K     |███▍                            | 71kB 8.7MB/s eta 0:00:01\r\u001b[K     |███▉                            | 81kB 9.6MB/s eta 0:00:01\r\u001b[K     |████▍                           | 92kB 8.9MB/s eta 0:00:01\r\u001b[K     |████▉                           | 102kB 7.6MB/s eta 0:00:01\r\u001b[K     |█████▎                          | 112kB 7.6MB/s eta 0:00:01\r\u001b[K     |█████▉                          | 122kB 7.6MB/s eta 0:00:01\r\u001b[K     |██████▎                         | 133kB 7.6MB/s eta 0:00:01\r\u001b[K     |██████▊                         | 143kB 7.6MB/s eta 0:00:01\r\u001b[K     |███████▎                        | 153kB 7.6MB/s eta 0:00:01\r\u001b[K     |███████▊                        | 163kB 7.6MB/s eta 0:00:01\r\u001b[K     |████████▏                       | 174kB 7.6MB/s eta 0:00:01\r\u001b[K     |████████▊                       | 184kB 7.6MB/s eta 0:00:01\r\u001b[K     |█████████▏                      | 194kB 7.6MB/s eta 0:00:01\r\u001b[K     |█████████▋                      | 204kB 7.6MB/s eta 0:00:01\r\u001b[K     |██████████▏                     | 215kB 7.6MB/s eta 0:00:01\r\u001b[K     |██████████▋                     | 225kB 7.6MB/s eta 0:00:01\r\u001b[K     |███████████                     | 235kB 7.6MB/s eta 0:00:01\r\u001b[K     |███████████▋                    | 245kB 7.6MB/s eta 0:00:01\r\u001b[K     |████████████                    | 256kB 7.6MB/s eta 0:00:01\r\u001b[K     |████████████▌                   | 266kB 7.6MB/s eta 0:00:01\r\u001b[K     |█████████████                   | 276kB 7.6MB/s eta 0:00:01\r\u001b[K     |█████████████▌                  | 286kB 7.6MB/s eta 0:00:01\r\u001b[K     |██████████████                  | 296kB 7.6MB/s eta 0:00:01\r\u001b[K     |██████████████▌                 | 307kB 7.6MB/s eta 0:00:01\r\u001b[K     |███████████████                 | 317kB 7.6MB/s eta 0:00:01\r\u001b[K     |███████████████▍                | 327kB 7.6MB/s eta 0:00:01\r\u001b[K     |████████████████                | 337kB 7.6MB/s eta 0:00:01\r\u001b[K     |████████████████▍               | 348kB 7.6MB/s eta 0:00:01\r\u001b[K     |████████████████▉               | 358kB 7.6MB/s eta 0:00:01\r\u001b[K     |█████████████████▍              | 368kB 7.6MB/s eta 0:00:01\r\u001b[K     |█████████████████▉              | 378kB 7.6MB/s eta 0:00:01\r\u001b[K     |██████████████████▎             | 389kB 7.6MB/s eta 0:00:01\r\u001b[K     |██████████████████▉             | 399kB 7.6MB/s eta 0:00:01\r\u001b[K     |███████████████████▎            | 409kB 7.6MB/s eta 0:00:01\r\u001b[K     |███████████████████▊            | 419kB 7.6MB/s eta 0:00:01\r\u001b[K     |████████████████████▎           | 430kB 7.6MB/s eta 0:00:01\r\u001b[K     |████████████████████▊           | 440kB 7.6MB/s eta 0:00:01\r\u001b[K     |█████████████████████▏          | 450kB 7.6MB/s eta 0:00:01\r\u001b[K     |█████████████████████▊          | 460kB 7.6MB/s eta 0:00:01\r\u001b[K     |██████████████████████▏         | 471kB 7.6MB/s eta 0:00:01\r\u001b[K     |██████████████████████▋         | 481kB 7.6MB/s eta 0:00:01\r\u001b[K     |███████████████████████▏        | 491kB 7.6MB/s eta 0:00:01\r\u001b[K     |███████████████████████▋        | 501kB 7.6MB/s eta 0:00:01\r\u001b[K     |████████████████████████        | 512kB 7.6MB/s eta 0:00:01\r\u001b[K     |████████████████████████▋       | 522kB 7.6MB/s eta 0:00:01\r\u001b[K     |█████████████████████████       | 532kB 7.6MB/s eta 0:00:01\r\u001b[K     |█████████████████████████▌      | 542kB 7.6MB/s eta 0:00:01\r\u001b[K     |██████████████████████████      | 552kB 7.6MB/s eta 0:00:01\r\u001b[K     |██████████████████████████▌     | 563kB 7.6MB/s eta 0:00:01\r\u001b[K     |███████████████████████████     | 573kB 7.6MB/s eta 0:00:01\r\u001b[K     |███████████████████████████▌    | 583kB 7.6MB/s eta 0:00:01\r\u001b[K     |████████████████████████████    | 593kB 7.6MB/s eta 0:00:01\r\u001b[K     |████████████████████████████▍   | 604kB 7.6MB/s eta 0:00:01\r\u001b[K     |█████████████████████████████   | 614kB 7.6MB/s eta 0:00:01\r\u001b[K     |█████████████████████████████▍  | 624kB 7.6MB/s eta 0:00:01\r\u001b[K     |█████████████████████████████▉  | 634kB 7.6MB/s eta 0:00:01\r\u001b[K     |██████████████████████████████▍ | 645kB 7.6MB/s eta 0:00:01\r\u001b[K     |██████████████████████████████▉ | 655kB 7.6MB/s eta 0:00:01\r\u001b[K     |███████████████████████████████▎| 665kB 7.6MB/s eta 0:00:01\r\u001b[K     |███████████████████████████████▉| 675kB 7.6MB/s eta 0:00:01\r\u001b[K     |████████████████████████████████| 686kB 7.6MB/s \n",
            "\u001b[?25h"
          ],
          "name": "stdout"
        }
      ]
    },
    {
      "cell_type": "code",
      "metadata": {
        "id": "Y6xfcs_oanlL"
      },
      "source": [
        "import warnings\n",
        "warnings.filterwarnings(\"ignore\")"
      ],
      "execution_count": null,
      "outputs": []
    },
    {
      "cell_type": "code",
      "metadata": {
        "id": "nCd1e8grWX3n"
      },
      "source": [
        "from keras.preprocessing.sequence import pad_sequences\n",
        "from tensorflow.keras.layers import Embedding\n",
        "from tensorflow.keras.utils import plot_model\n",
        "from tensorflow.keras.models import Model\n",
        "from tensorflow.keras.layers import Input\n",
        "from tensorflow.keras.layers import Dense\n",
        "from tensorflow.keras.layers import Flatten\n",
        "from tensorflow.keras.layers import Conv1D\n",
        "from tensorflow.keras.layers import MaxPooling1D\n",
        "from tensorflow.keras.layers import concatenate\n",
        "from tensorflow.keras.layers import Dropout\n",
        "from tensorflow.keras.layers import GlobalMaxPooling1D\n",
        "from tensorflow.keras.preprocessing.sequence import pad_sequences\n",
        "from tensorflow.keras.utils import plot_model\n",
        "from tensorflow.keras.callbacks import ModelCheckpoint\n",
        "from tensorflow_addons.metrics import F1Score\n",
        "%load_ext tensorboard\n",
        "import datetime"
      ],
      "execution_count": null,
      "outputs": []
    },
    {
      "cell_type": "markdown",
      "metadata": {
        "id": "bJnmlvD-br7U"
      },
      "source": [
        "<h1>2.1.Word Level Embedding<h1>"
      ]
    },
    {
      "cell_type": "markdown",
      "metadata": {
        "id": "9U48Om4coc0f"
      },
      "source": [
        "<h3>2.1.1-Tokenization<h3>"
      ]
    },
    {
      "cell_type": "code",
      "metadata": {
        "id": "Xlq_YUdZF5w-"
      },
      "source": [
        "#In Tokenization i have removed \"_\" from the filters argument so it won't removes it during tokenization\n",
        "tk=tf.keras.preprocessing.text.Tokenizer(num_words=20000,filters='!\"#$%&()*+,-./:;<=>?@[\\\\]^`{|}~\\t\\n',lower=True,split=\" \",char_level=False,oov_token=None,document_count=0)\n",
        "tk.fit_on_texts(X_train)\n",
        "vocab_size = len(tk.word_index) + 1\n",
        "# integer encode the documents\n",
        "encoded_docs_train = tk.texts_to_sequences(X_train)\n",
        "encoded_docs_test = tk.texts_to_sequences(X_test)"
      ],
      "execution_count": null,
      "outputs": []
    },
    {
      "cell_type": "markdown",
      "metadata": {
        "id": "eUbtrarzoeYj"
      },
      "source": [
        "<h3>2.1.2-Padding<h3>"
      ]
    },
    {
      "cell_type": "code",
      "metadata": {
        "id": "y5nFg3O9IQHI"
      },
      "source": [
        "\n",
        "#By giving \"maxlen\" argument of \"pad_sequences\" the \"default\" value it will adjust the pad sequence according do the document \n",
        "#which has the maximum number of words so i had given the default value of \"maxlen\"\n",
        "\n",
        "padded_docs_train = pad_sequences(encoded_docs_train,maxlen=1000,padding='post')\n",
        "padded_docs_test = pad_sequences(encoded_docs_test,maxlen=1000, padding='post')\n",
        "padded_docs_train = np.array(padded_docs_train, dtype='float32')\n",
        "padded_docs_test = np.array(padded_docs_test, dtype='float32')"
      ],
      "execution_count": null,
      "outputs": []
    },
    {
      "cell_type": "code",
      "metadata": {
        "id": "PkpPMhWbcQw5"
      },
      "source": [
        ""
      ],
      "execution_count": null,
      "outputs": []
    },
    {
      "cell_type": "markdown",
      "metadata": {
        "id": "N7zfYJ86ojOr"
      },
      "source": [
        "<h3>2.1.3-Downloading the \"Glove Vector\"<h3>"
      ]
    },
    {
      "cell_type": "code",
      "metadata": {
        "id": "GIBCwQY9Kc9r",
        "colab": {
          "base_uri": "https://localhost:8080/"
        },
        "outputId": "5732e4ab-6eda-4c74-caf9-67866e5bfc3e"
      },
      "source": [
        "#downloading pre-trained GloVe embeddings (a 822M zip file)-100 dimensional\n",
        "\n",
        "!wget http://nlp.stanford.edu/data/glove.6B.zip\n",
        "!unzip -q glove.6B.zip"
      ],
      "execution_count": null,
      "outputs": [
        {
          "output_type": "stream",
          "text": [
            "--2021-05-26 11:32:36--  http://nlp.stanford.edu/data/glove.6B.zip\n",
            "Resolving nlp.stanford.edu (nlp.stanford.edu)... 171.64.67.140\n",
            "Connecting to nlp.stanford.edu (nlp.stanford.edu)|171.64.67.140|:80... connected.\n",
            "HTTP request sent, awaiting response... 302 Found\n",
            "Location: https://nlp.stanford.edu/data/glove.6B.zip [following]\n",
            "--2021-05-26 11:32:36--  https://nlp.stanford.edu/data/glove.6B.zip\n",
            "Connecting to nlp.stanford.edu (nlp.stanford.edu)|171.64.67.140|:443... connected.\n",
            "HTTP request sent, awaiting response... 301 Moved Permanently\n",
            "Location: http://downloads.cs.stanford.edu/nlp/data/glove.6B.zip [following]\n",
            "--2021-05-26 11:32:36--  http://downloads.cs.stanford.edu/nlp/data/glove.6B.zip\n",
            "Resolving downloads.cs.stanford.edu (downloads.cs.stanford.edu)... 171.64.64.22\n",
            "Connecting to downloads.cs.stanford.edu (downloads.cs.stanford.edu)|171.64.64.22|:80... connected.\n",
            "HTTP request sent, awaiting response... 200 OK\n",
            "Length: 862182613 (822M) [application/zip]\n",
            "Saving to: ‘glove.6B.zip’\n",
            "\n",
            "glove.6B.zip        100%[===================>] 822.24M  5.23MB/s    in 2m 41s  \n",
            "\n",
            "2021-05-26 11:35:17 (5.11 MB/s) - ‘glove.6B.zip’ saved [862182613/862182613]\n",
            "\n"
          ],
          "name": "stdout"
        }
      ]
    },
    {
      "cell_type": "markdown",
      "metadata": {
        "id": "5xnTsugyok8t"
      },
      "source": [
        "<h3>2.1.4-Mapping the \"Glove Vectors\"<h3>"
      ]
    },
    {
      "cell_type": "code",
      "metadata": {
        "colab": {
          "base_uri": "https://localhost:8080/"
        },
        "id": "KAX5hGqlKtsI",
        "outputId": "dae9d7ae-8e3c-4000-e0fc-d416fdd1a3cb"
      },
      "source": [
        "#making a dict mapping words (strings) to their NumPy vector representation:\n",
        "\n",
        "path_to_glove_file = '/content/glove.6B.100d.txt'\n",
        "embeddings_index = {}\n",
        "with open(path_to_glove_file) as f:\n",
        "    for line in f:\n",
        "        word, coefs = line.split(maxsplit=1)\n",
        "        coefs = np.fromstring(coefs, \"f\", sep=\" \")\n",
        "        embeddings_index[word] = coefs\n",
        "\n",
        "print(\"Found %s word vectors.\" % len(embeddings_index))\n",
        "embedding_dim=100"
      ],
      "execution_count": null,
      "outputs": [
        {
          "output_type": "stream",
          "text": [
            "Found 400000 word vectors.\n"
          ],
          "name": "stdout"
        }
      ]
    },
    {
      "cell_type": "code",
      "metadata": {
        "id": "KCItKLoywFVC"
      },
      "source": [
        ""
      ],
      "execution_count": null,
      "outputs": []
    },
    {
      "cell_type": "markdown",
      "metadata": {
        "id": "1ICPNRZBonN3"
      },
      "source": [
        "<h3>2.1.5-Preparing the \"Embedding Layer\"<h3>"
      ]
    },
    {
      "cell_type": "code",
      "metadata": {
        "id": "p-reL35OKtn3"
      },
      "source": [
        "# Prepare embedding matrix\n",
        "embedding_matrix = np.zeros((vocab_size,embedding_dim))\n",
        "for word, i in tk.word_index.items():\n",
        "    embedding_vector = embeddings_index.get(word)\n",
        "    if embedding_vector is not None:\n",
        "        # Words not found in embedding index will be all-zeros.\n",
        "        # This includes the representation for \"padding\" and \"OOV\"\n",
        "        embedding_matrix[i] = embedding_vector"
      ],
      "execution_count": null,
      "outputs": []
    },
    {
      "cell_type": "code",
      "metadata": {
        "id": "T9sfknwCMbZn"
      },
      "source": [
        "#\"trainable=False \" =>\"Don't train any word vectors while Training the model.\"\n",
        "embedding_layer = Embedding(vocab_size,embedding_dim,embeddings_initializer=tf.keras.initializers.Constant(embedding_matrix),trainable=False)\n",
        " "
      ],
      "execution_count": null,
      "outputs": []
    },
    {
      "cell_type": "markdown",
      "metadata": {
        "id": "Nwr6XA2xwuge"
      },
      "source": [
        "<h3>2.1.6-Call Back For Tensorboard<h3>"
      ]
    },
    {
      "cell_type": "code",
      "metadata": {
        "id": "_CBPIAUkb0_i"
      },
      "source": [
        "# Clear any logs from previous runs\n",
        "!rm -rf ./logs/\n",
        "#Clear any model_save from previous runs\n",
        "!rm -rf ./model_save/\n",
        "log_dir = \"logs/fit/\" + datetime.datetime.now().strftime(\"%Y%m%d-%H%M%S\")\n",
        "train_summary_writer = tf.summary.create_file_writer(log_dir)\n",
        "tensorboard_callback = tf.keras.callbacks.TensorBoard(log_dir=log_dir, histogram_freq=1)\n"
      ],
      "execution_count": null,
      "outputs": []
    },
    {
      "cell_type": "markdown",
      "metadata": {
        "id": "kz2LVzKCw1p1"
      },
      "source": [
        "<h3>2.1.7-Call Back For saving model weights<h3>"
      ]
    },
    {
      "cell_type": "code",
      "metadata": {
        "id": "jwjkpfWdwz6-"
      },
      "source": [
        "# Directory where the checkpoints will be saved\n",
        "checkpoint_dir = '/content/sample_data'\n",
        "# Name of the checkpoint files\n",
        "checkpoint_prefix = os.path.join(checkpoint_dir, \"best_model_1.h5\")\n",
        "\n",
        "checkpoint_callback = tf.keras.callbacks.ModelCheckpoint(filepath=checkpoint_prefix,monitor='acc',verbose=0, save_best_only=True,save_freq='epoch',save_weights_only=True)\n"
      ],
      "execution_count": null,
      "outputs": []
    },
    {
      "cell_type": "markdown",
      "metadata": {
        "id": "H1v86HQ3ngiy"
      },
      "source": [
        "<h1>2.2 -> MODEL-1<h1>"
      ]
    },
    {
      "cell_type": "code",
      "metadata": {
        "id": "59lnQ0xnaJRm"
      },
      "source": [
        "#REFERENCE:https://stackoverflow.com/questions/56918388/error-valueerror-the-last-dimension-of-the-inputs-to-dense-should-be-defined\n",
        "\n",
        "#MODEL-1\n",
        "\n",
        "int_sequences_input = Input(shape=(1000,))\n",
        "embedded_sequences = embedding_layer(int_sequences_input)\n",
        "Conv1_1 = Conv1D(128, 5, activation=\"relu\")(embedded_sequences)\n",
        "Conv1_2 = Conv1D(100, 5, activation=\"relu\")(embedded_sequences)\n",
        "Conv1_3 = Conv1D(100, 5, activation=\"relu\")(embedded_sequences)\n",
        "merge_1=concatenate([Conv1_1,Conv1_2,Conv1_3])\n",
        "Maxpool_1 = MaxPooling1D()(merge_1)\n",
        "Conv2_1 = Conv1D(128, 5, activation=\"relu\")(Maxpool_1)\n",
        "Conv2_2 = Conv1D(100, 5, activation=\"relu\")(Maxpool_1)\n",
        "Conv2_3 = Conv1D(100, 5, activation=\"relu\")(Maxpool_1)\n",
        "merge_2=concatenate([Conv2_1,Conv2_2,Conv2_3])\n",
        "Maxpool_2 = MaxPooling1D()(merge_2)\n",
        "Conv3 = Conv1D(100, 5, activation=\"relu\")(Maxpool_2)\n",
        "flat1 = Flatten()(Conv3)\n",
        "Drop= Dropout(0.5)(flat1)\n",
        "Dense_1 = Dense(512, activation=\"relu\")(Drop)\n",
        "output = Dense(len(labels), activation=\"softmax\")(Dense_1)\n",
        "model = Model(inputs=int_sequences_input, outputs=output)"
      ],
      "execution_count": null,
      "outputs": []
    },
    {
      "cell_type": "code",
      "metadata": {
        "id": "8vqpCjOhckdQ"
      },
      "source": [
        ""
      ],
      "execution_count": null,
      "outputs": []
    },
    {
      "cell_type": "markdown",
      "metadata": {
        "id": "AZAOASOhEaq7"
      },
      "source": [
        "<h3>MODEL-1 Summary<h3>"
      ]
    },
    {
      "cell_type": "code",
      "metadata": {
        "id": "PHpmtlnIm-Yu",
        "colab": {
          "base_uri": "https://localhost:8080/"
        },
        "outputId": "f08ca77e-9c5c-4b3b-c197-4954ee50beb1"
      },
      "source": [
        "# summarize layers\n",
        "print(model.summary())\n"
      ],
      "execution_count": null,
      "outputs": [
        {
          "output_type": "stream",
          "text": [
            "Model: \"model_1\"\n",
            "__________________________________________________________________________________________________\n",
            "Layer (type)                    Output Shape         Param #     Connected to                     \n",
            "==================================================================================================\n",
            "input_2 (InputLayer)            [(None, 1000)]       0                                            \n",
            "__________________________________________________________________________________________________\n",
            "embedding (Embedding)           (None, 1000, 100)    7336600     input_2[0][0]                    \n",
            "__________________________________________________________________________________________________\n",
            "conv1d_7 (Conv1D)               (None, 996, 128)     64128       embedding[1][0]                  \n",
            "__________________________________________________________________________________________________\n",
            "conv1d_8 (Conv1D)               (None, 996, 100)     50100       embedding[1][0]                  \n",
            "__________________________________________________________________________________________________\n",
            "conv1d_9 (Conv1D)               (None, 996, 100)     50100       embedding[1][0]                  \n",
            "__________________________________________________________________________________________________\n",
            "concatenate_2 (Concatenate)     (None, 996, 328)     0           conv1d_7[0][0]                   \n",
            "                                                                 conv1d_8[0][0]                   \n",
            "                                                                 conv1d_9[0][0]                   \n",
            "__________________________________________________________________________________________________\n",
            "max_pooling1d_2 (MaxPooling1D)  (None, 498, 328)     0           concatenate_2[0][0]              \n",
            "__________________________________________________________________________________________________\n",
            "conv1d_10 (Conv1D)              (None, 494, 128)     210048      max_pooling1d_2[0][0]            \n",
            "__________________________________________________________________________________________________\n",
            "conv1d_11 (Conv1D)              (None, 494, 100)     164100      max_pooling1d_2[0][0]            \n",
            "__________________________________________________________________________________________________\n",
            "conv1d_12 (Conv1D)              (None, 494, 100)     164100      max_pooling1d_2[0][0]            \n",
            "__________________________________________________________________________________________________\n",
            "concatenate_3 (Concatenate)     (None, 494, 328)     0           conv1d_10[0][0]                  \n",
            "                                                                 conv1d_11[0][0]                  \n",
            "                                                                 conv1d_12[0][0]                  \n",
            "__________________________________________________________________________________________________\n",
            "max_pooling1d_3 (MaxPooling1D)  (None, 247, 328)     0           concatenate_3[0][0]              \n",
            "__________________________________________________________________________________________________\n",
            "conv1d_13 (Conv1D)              (None, 243, 100)     164100      max_pooling1d_3[0][0]            \n",
            "__________________________________________________________________________________________________\n",
            "flatten_1 (Flatten)             (None, 24300)        0           conv1d_13[0][0]                  \n",
            "__________________________________________________________________________________________________\n",
            "dropout_1 (Dropout)             (None, 24300)        0           flatten_1[0][0]                  \n",
            "__________________________________________________________________________________________________\n",
            "dense_2 (Dense)                 (None, 512)          12442112    dropout_1[0][0]                  \n",
            "__________________________________________________________________________________________________\n",
            "dense_3 (Dense)                 (None, 20)           10260       dense_2[0][0]                    \n",
            "==================================================================================================\n",
            "Total params: 20,655,648\n",
            "Trainable params: 13,319,048\n",
            "Non-trainable params: 7,336,600\n",
            "__________________________________________________________________________________________________\n",
            "None\n"
          ],
          "name": "stdout"
        }
      ]
    },
    {
      "cell_type": "code",
      "metadata": {
        "id": "vxcIWtW7p2iq",
        "colab": {
          "base_uri": "https://localhost:8080/"
        },
        "outputId": "1c209de2-729e-4015-e53f-0ba96b205843"
      },
      "source": [
        "model.compile(loss=\"categorical_crossentropy\", optimizer=\"rmsprop\", metrics=[\"acc\",F1Score(num_classes=len(labels ), average=\"micro\")])\n",
        "\n",
        "model.fit(padded_docs_train, Y_train, batch_size=128, epochs=5, validation_data=(padded_docs_test, Y_test),callbacks=[checkpoint_callback,tensorboard_callback])"
      ],
      "execution_count": null,
      "outputs": [
        {
          "output_type": "stream",
          "text": [
            "Epoch 1/5\n",
            "111/111 [==============================] - 1050s 9s/step - loss: 2.8650 - acc: 0.1379 - f1_score: 0.1379 - val_loss: 2.0634 - val_acc: 0.2728 - val_f1_score: 0.2728\n",
            "Epoch 2/5\n",
            "111/111 [==============================] - 1022s 9s/step - loss: 1.7758 - acc: 0.3873 - f1_score: 0.3873 - val_loss: 1.4645 - val_acc: 0.5141 - val_f1_score: 0.5141\n",
            "Epoch 3/5\n",
            "111/111 [==============================] - 1032s 9s/step - loss: 1.2367 - acc: 0.5805 - f1_score: 0.5805 - val_loss: 1.1188 - val_acc: 0.6180 - val_f1_score: 0.6180\n",
            "Epoch 4/5\n",
            "111/111 [==============================] - 1031s 9s/step - loss: 0.9311 - acc: 0.6842 - f1_score: 0.6842 - val_loss: 1.1094 - val_acc: 0.6204 - val_f1_score: 0.6204\n",
            "Epoch 5/5\n",
            "111/111 [==============================] - 978s 9s/step - loss: 0.7030 - acc: 0.7558 - f1_score: 0.7558 - val_loss: 1.2152 - val_acc: 0.6512 - val_f1_score: 0.6512\n"
          ],
          "name": "stdout"
        },
        {
          "output_type": "execute_result",
          "data": {
            "text/plain": [
              "<tensorflow.python.keras.callbacks.History at 0x7f1fa5cd2e90>"
            ]
          },
          "metadata": {
            "tags": []
          },
          "execution_count": 42
        }
      ]
    },
    {
      "cell_type": "code",
      "metadata": {
        "id": "TqRgFF2km-av"
      },
      "source": [
        "%tensorboard --logdir logs/fit"
      ],
      "execution_count": null,
      "outputs": []
    },
    {
      "cell_type": "markdown",
      "source": [
        "<h1>3 -> MODEL-2<h1>"
      ],
      "metadata": {
        "id": "Dl2beq_BFZpU"
      }
    },
    {
      "cell_type": "markdown",
      "metadata": {
        "id": "uB2LZIGrlkAt"
      },
      "source": [
        "<h1>3.1.Character Level Embedding<h1>"
      ]
    },
    {
      "cell_type": "markdown",
      "metadata": {
        "id": "zXe2MjnQoPp9"
      },
      "source": [
        "<h3>3.1.1-Tokenization<h3>"
      ]
    },
    {
      "cell_type": "code",
      "metadata": {
        "id": "2gzqtxf3QZzO"
      },
      "source": [
        "tk = tf.keras.preprocessing.text.Tokenizer(num_words=None, char_level=True, oov_token='UNK')\n",
        "tk.fit_on_texts(X_train)"
      ],
      "execution_count": null,
      "outputs": []
    },
    {
      "cell_type": "markdown",
      "metadata": {
        "id": "o4pQ2pifp9D_"
      },
      "source": [
        "<h3>3.1.2-Assigning integers for the characters <h3>"
      ]
    },
    {
      "cell_type": "code",
      "metadata": {
        "id": "YbbXJO80l7l8"
      },
      "source": [
        "#REFERENCE:https://towardsdatascience.com/character-level-cnn-with-keras-50391c3adf33\n",
        "\n",
        "# construct a new vocabulary (i.e) assigning the integers to each and every character\n",
        "alphabet = \"abcdefghijklmnopqrstuvwxyz0123456789,;.!?:'\\\"/\\\\|_@#$%^&*~`+-=<>()[]{}\"\n",
        "char_dict = {}\n",
        "for i, char in enumerate(alphabet):\n",
        "    char_dict[char] = i + 1\n",
        "\n",
        "# Use char_dict to replace the tk.word_index\n",
        "tk.word_index = char_dict.copy()\n",
        "# Add 'UNK' to the vocabulary\n",
        "tk.word_index[tk.oov_token] = max(char_dict.values()) + 1"
      ],
      "execution_count": null,
      "outputs": []
    },
    {
      "cell_type": "markdown",
      "metadata": {
        "id": "n8iNPVykqpN7"
      },
      "source": [
        "<h3>3.1.3-Tokenizing after character assigning  and padding <h3>"
      ]
    },
    {
      "cell_type": "code",
      "metadata": {
        "id": "O5-Hpf6Ul7n2"
      },
      "source": [
        "# Convert string to index\n",
        "train_sequences = tk.texts_to_sequences(X_train)\n",
        "test_texts = tk.texts_to_sequences(X_test)\n",
        "\n",
        "# Padding\n",
        "train_data = pad_sequences(train_sequences, maxlen=1500, padding='post')\n",
        "test_data = pad_sequences(test_texts, maxlen=1500, padding='post')\n",
        "\n",
        "# Convert to numpy array\n",
        "train_data = np.array(train_data, dtype='float32')\n",
        "test_data = np.array(test_data, dtype='float32')"
      ],
      "execution_count": null,
      "outputs": []
    },
    {
      "cell_type": "markdown",
      "metadata": {
        "id": "2eBCOb6RrLcT"
      },
      "source": [
        "<h3>3.1.4-Mapping the \"Glove Vectors\" of the characters<h3>"
      ]
    },
    {
      "cell_type": "code",
      "metadata": {
        "id": "5TMNoLczl7q-",
        "colab": {
          "base_uri": "https://localhost:8080/"
        },
        "outputId": "90df2072-edec-423b-fea9-1acbb145e788"
      },
      "source": [
        "#making a dict mapping words (strings) to their NumPy vector representation:\n",
        "\n",
        "path_to_glove_file = '/content/drive/MyDrive/glove.840B.300d-char.txt'\n",
        "embeddings_index = {}\n",
        "with open(path_to_glove_file) as f:\n",
        "    for line in f:\n",
        "        word, coefs = line.split(maxsplit=1)\n",
        "        coefs = np.fromstring(coefs, \"f\", sep=\" \")\n",
        "        embeddings_index[word] = coefs\n",
        "\n",
        "print(\"Found %s word vectors.\" % len(embeddings_index))\n",
        "embedding_dim=300"
      ],
      "execution_count": null,
      "outputs": [
        {
          "output_type": "stream",
          "text": [
            "Found 94 word vectors.\n"
          ],
          "name": "stdout"
        }
      ]
    },
    {
      "cell_type": "markdown",
      "metadata": {
        "id": "XAVOTO5OrWxZ"
      },
      "source": [
        "<h3>3.1.5-Preparing the \"Embedding Layer\"<h3>"
      ]
    },
    {
      "cell_type": "code",
      "metadata": {
        "id": "S1tDfeQvl7sq"
      },
      "source": [
        "# Prepare embedding matrix\n",
        "embedding_matrix = np.zeros((vocab_size,embedding_dim))\n",
        "for word, i in tk.word_index.items():\n",
        "    embedding_vector = embeddings_index.get(word)\n",
        "    if embedding_vector is not None:\n",
        "        # Words not found in embedding index will be all-zeros.\n",
        "        # This includes the representation for \"padding\" and \"OOV\"\n",
        "        embedding_matrix[i] = embedding_vector"
      ],
      "execution_count": null,
      "outputs": []
    },
    {
      "cell_type": "code",
      "metadata": {
        "id": "_Tes_37Kl74c"
      },
      "source": [
        "#\"trainable=False \" =>\"Don't train any word vectors while Training the model.\"\n",
        "embedding_layer = Embedding(vocab_size,embedding_dim,embeddings_initializer=tf.keras.initializers.Constant(embedding_matrix),trainable=False)"
      ],
      "execution_count": null,
      "outputs": []
    },
    {
      "cell_type": "markdown",
      "metadata": {
        "id": "XlT5u2_YoIq8"
      },
      "source": [
        "<h3>3.1.6-Call Back For Tensorboard<h3>"
      ]
    },
    {
      "cell_type": "code",
      "metadata": {
        "id": "sKgY2s86OpuJ"
      },
      "source": [
        "# Clear any logs from previous runs\n",
        "!rm -rf ./model2_logs/\n",
        "#Clear any model_save from previous runs\n",
        "!rm -rf ./model_save/"
      ],
      "execution_count": null,
      "outputs": []
    },
    {
      "cell_type": "code",
      "metadata": {
        "id": "u7-Mg4wYCRNz"
      },
      "source": [
        "\n",
        "log_dir = \"model2_logs/fit/\" + datetime.datetime.now().strftime(\"%Y%m%d-%H%M%S\")\n",
        "train_summary_writer = tf.summary.create_file_writer(log_dir)\n",
        "tensorboard_callback = tf.keras.callbacks.TensorBoard(log_dir=log_dir, histogram_freq=1)\n",
        "                                                      \n"
      ],
      "execution_count": null,
      "outputs": []
    },
    {
      "cell_type": "markdown",
      "metadata": {
        "id": "XpUk0S3vn8a1"
      },
      "source": [
        "<h3>3.1.7-Call Back For saving model weights<h3>"
      ]
    },
    {
      "cell_type": "code",
      "metadata": {
        "id": "evCcPCPuQcIG"
      },
      "source": [
        "# Directory where the checkpoints will be saved\n",
        "checkpoint_dir = '/content/sample_data'\n",
        "# Name of the checkpoint files\n",
        "checkpoint_prefix = os.path.join(checkpoint_dir, \"best_model_2.h5\")\n",
        "\n",
        "checkpoint_callback = tf.keras.callbacks.ModelCheckpoint(filepath=checkpoint_prefix,verbose=0, save_best_only=True,save_freq='epoch',save_weights_only=True)\n"
      ],
      "execution_count": null,
      "outputs": []
    },
    {
      "cell_type": "markdown",
      "metadata": {
        "id": "V_sU4CDYn4lS"
      },
      "source": [
        "<h1>MODEL-2<h1>"
      ]
    },
    {
      "cell_type": "code",
      "metadata": {
        "id": "29_ZjSuBp1kl"
      },
      "source": [
        "int_sequences_input = Input(shape=(1500,))\n",
        "embedded_sequences = embedding_layer(int_sequences_input)\n",
        "Conv1_1 = Conv1D(256, 5, activation=\"relu\")(embedded_sequences)\n",
        "Conv1_2 = Conv1D(256, 5, activation=\"relu\")(Conv1_1)\n",
        "Conv1_3 = Conv1D(256, 5, activation=\"relu\")(Conv1_2)\n",
        "Maxpool_1 = MaxPooling1D()(Conv1_2)\n",
        "Conv2_1 = Conv1D(256, 5, activation=\"relu\")(Maxpool_1)\n",
        "Conv2_2 = Conv1D(256, 5, activation=\"relu\")(Conv2_1)\n",
        "Conv2_3 = Conv1D(256, 5, activation=\"relu\")(Conv2_2)\n",
        "Maxpool_2 = MaxPooling1D()(Conv2_2)\n",
        "flat1 = Flatten()(Maxpool_2)\n",
        "Drop= Dropout(0.5)(flat1)\n",
        "Dense_1 = Dense(512, activation=\"relu\")(Drop)\n",
        "output = Dense(len(labels), activation=\"softmax\")(Dense_1)\n",
        "model = Model(inputs=int_sequences_input, outputs=output)"
      ],
      "execution_count": null,
      "outputs": []
    },
    {
      "cell_type": "code",
      "metadata": {
        "id": "3XRbZj1NI0v2",
        "colab": {
          "base_uri": "https://localhost:8080/"
        },
        "outputId": "5e6db87a-2769-4095-8c0b-1e5b4ee4c6d2"
      },
      "source": [
        "# summarize layers\n",
        "print(model.summary())\n"
      ],
      "execution_count": null,
      "outputs": [
        {
          "output_type": "stream",
          "text": [
            "Model: \"model_4\"\n",
            "_________________________________________________________________\n",
            "Layer (type)                 Output Shape              Param #   \n",
            "=================================================================\n",
            "input_6 (InputLayer)         [(None, 1500)]            0         \n",
            "_________________________________________________________________\n",
            "embedding_2 (Embedding)      multiple                  22009800  \n",
            "_________________________________________________________________\n",
            "conv1d_24 (Conv1D)           (None, 1496, 256)         384256    \n",
            "_________________________________________________________________\n",
            "conv1d_25 (Conv1D)           (None, 1492, 256)         327936    \n",
            "_________________________________________________________________\n",
            "max_pooling1d_8 (MaxPooling1 (None, 746, 256)          0         \n",
            "_________________________________________________________________\n",
            "conv1d_27 (Conv1D)           (None, 742, 256)          327936    \n",
            "_________________________________________________________________\n",
            "conv1d_28 (Conv1D)           (None, 738, 256)          327936    \n",
            "_________________________________________________________________\n",
            "max_pooling1d_9 (MaxPooling1 (None, 369, 256)          0         \n",
            "_________________________________________________________________\n",
            "flatten_4 (Flatten)          (None, 94464)             0         \n",
            "_________________________________________________________________\n",
            "dropout_4 (Dropout)          (None, 94464)             0         \n",
            "_________________________________________________________________\n",
            "dense_8 (Dense)              (None, 512)               48366080  \n",
            "_________________________________________________________________\n",
            "dense_9 (Dense)              (None, 20)                10260     \n",
            "=================================================================\n",
            "Total params: 71,754,204\n",
            "Trainable params: 49,744,404\n",
            "Non-trainable params: 22,009,800\n",
            "_________________________________________________________________\n",
            "None\n"
          ],
          "name": "stdout"
        }
      ]
    },
    {
      "cell_type": "code",
      "metadata": {
        "id": "YQkliFzjclbX",
        "colab": {
          "base_uri": "https://localhost:8080/"
        },
        "outputId": "4561c131-c36e-465d-c8fc-d8e4ff2974f0"
      },
      "source": [
        "model.compile(loss=\"categorical_crossentropy\", optimizer=\"rmsprop\", metrics=[\"acc\",F1Score(num_classes=le n(labels), average=\"micro\")])\n",
        "model.fit(train_data, Y_train, batch_size=128, epochs=10, validation_data=(test_data, Y_test),callbacks=[checkpoint_callback,tensorboard_callback])"
      ],
      "execution_count": null,
      "outputs": [
        {
          "output_type": "stream",
          "text": [
            "Epoch 1/10\n",
            "111/111 [==============================] - 1562s 14s/step - loss: 5.4437 - acc: 0.0775 - f1_score: 0.0775 - val_loss: 2.9523 - val_acc: 0.0722 - val_f1_score: 0.0722\n",
            "Epoch 2/10\n",
            "111/111 [==============================] - 1569s 14s/step - loss: 2.9446 - acc: 0.0802 - f1_score: 0.0802 - val_loss: 2.9406 - val_acc: 0.0846 - val_f1_score: 0.0846\n",
            "Epoch 3/10\n",
            "111/111 [==============================] - 1569s 14s/step - loss: 2.9357 - acc: 0.0963 - f1_score: 0.0963 - val_loss: 2.9437 - val_acc: 0.0824 - val_f1_score: 0.0824\n",
            "Epoch 4/10\n",
            "111/111 [==============================] - 1546s 14s/step - loss: 2.8036 - acc: 0.1346 - f1_score: 0.1346 - val_loss: 2.9378 - val_acc: 0.0865 - val_f1_score: 0.0865\n",
            "Epoch 5/10\n",
            "111/111 [==============================] - 1555s 14s/step - loss: 2.5862 - acc: 0.1965 - f1_score: 0.1965 - val_loss: 3.0254 - val_acc: 0.0809 - val_f1_score: 0.0809\n",
            "Epoch 6/10\n",
            "111/111 [==============================] - 1557s 14s/step - loss: 2.3112 - acc: 0.2698 - f1_score: 0.2698 - val_loss: 3.4048 - val_acc: 0.0805 - val_f1_score: 0.0805\n",
            "Epoch 7/10\n",
            "111/111 [==============================] - 1545s 14s/step - loss: 2.0180 - acc: 0.3569 - f1_score: 0.3569 - val_loss: 3.6346 - val_acc: 0.0788 - val_f1_score: 0.0788\n",
            "Epoch 8/10\n",
            "111/111 [==============================] - 1545s 14s/step - loss: 1.7192 - acc: 0.4654 - f1_score: 0.4654 - val_loss: 4.2399 - val_acc: 0.0824 - val_f1_score: 0.0824\n",
            "Epoch 9/10\n",
            "111/111 [==============================] - 1547s 14s/step - loss: 1.3653 - acc: 0.5752 - f1_score: 0.5752 - val_loss: 4.6497 - val_acc: 0.0854 - val_f1_score: 0.0854\n",
            "Epoch 10/10\n",
            "111/111 [==============================] - 1557s 14s/step - loss: 1.0888 - acc: 0.6604 - f1_score: 0.6604 - val_loss: 6.4288 - val_acc: 0.0888 - val_f1_score: 0.0888\n"
          ],
          "name": "stdout"
        },
        {
          "output_type": "execute_result",
          "data": {
            "text/plain": [
              "<tensorflow.python.keras.callbacks.History at 0x7f15045febd0>"
            ]
          },
          "metadata": {
            "tags": []
          },
          "execution_count": 50
        }
      ]
    },
    {
      "cell_type": "code",
      "metadata": {
        "id": "MCtD0M0Zclnr"
      },
      "source": [
        "%tensorboard --logdir model2_logs/fit"
      ],
      "execution_count": null,
      "outputs": []
    },
    {
      "cell_type": "code",
      "metadata": {
        "id": "T9Ahwx3qclq2"
      },
      "source": [
        ""
      ],
      "execution_count": null,
      "outputs": []
    },
    {
      "cell_type": "markdown",
      "metadata": {
        "id": "9GDX6wztEDXN"
      },
      "source": [
        "<h1>MODEL-1 Plot Graph<h1>"
      ]
    },
    {
      "cell_type": "code",
      "metadata": {
        "colab": {
          "base_uri": "https://localhost:8080/",
          "height": 1000
        },
        "id": "BJSJZBETEA8Z",
        "outputId": "a3581635-e1eb-4eee-d772-4e6edca293d6"
      },
      "source": [
        "# plot graph\n",
        "plot_model(model, to_file='MODEL_1.png')"
      ],
      "execution_count": null,
      "outputs": [
        {
          "output_type": "execute_result",
          "data": {
            "image/png": "[encoded data removed]",
            "text/plain": [
              "<IPython.core.display.Image object>"
            ]
          },
          "metadata": {
            "tags": []
          },
          "execution_count": 43
        }
      ]
    },
    {
      "cell_type": "code",
      "metadata": {
        "id": "2txYqoiNG_8k"
      },
      "source": [
        ""
      ],
      "execution_count": null,
      "outputs": []
    },
    {
      "cell_type": "code",
      "metadata": {
        "id": "J7Ch3aLgHAFB"
      },
      "source": [
        ""
      ],
      "execution_count": null,
      "outputs": []
    },
    {
      "cell_type": "markdown",
      "metadata": {
        "id": "Jzza0w5UN_7k"
      },
      "source": [
        "<h1>MODEL-2 Plot Graph<h1>"
      ]
    },
    {
      "cell_type": "code",
      "metadata": {
        "colab": {
          "base_uri": "https://localhost:8080/",
          "height": 1000
        },
        "id": "C3Nvd7T4HAOt",
        "outputId": "65c26fcf-d403-4f57-f8b9-3a408d1c4107"
      },
      "source": [
        "# plot graph\n",
        "plot_model(model, to_file='MODEL_2.png')"
      ],
      "execution_count": null,
      "outputs": [
        {
          "output_type": "execute_result",
          "data": {
            "image/png": "[encoded data removed]",
            "text/plain": [
              "<IPython.core.display.Image object>"
            ]
          },
          "metadata": {
            "tags": []
          },
          "execution_count": 51
        }
      ]
    },
    {
      "cell_type": "code",
      "metadata": {
        "id": "bClfB2fTHAWK"
      },
      "source": [
        ""
      ],
      "execution_count": null,
      "outputs": []
    },
    {
      "cell_type": "code",
      "metadata": {
        "id": "CEct-KZnHAau"
      },
      "source": [
        ""
      ],
      "execution_count": null,
      "outputs": []
    },
    {
      "cell_type": "code",
      "metadata": {
        "id": "EOcAHn-0HAc1"
      },
      "source": [
        ""
      ],
      "execution_count": null,
      "outputs": []
    },
    {
      "cell_type": "code",
      "metadata": {
        "id": "veepBEmcHAhh"
      },
      "source": [
        ""
      ],
      "execution_count": null,
      "outputs": []
    }
  ]
}